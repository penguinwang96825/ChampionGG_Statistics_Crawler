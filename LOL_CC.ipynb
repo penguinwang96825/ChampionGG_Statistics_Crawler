{
 "cells": [
  {
   "cell_type": "code",
   "execution_count": 1,
   "metadata": {},
   "outputs": [],
   "source": [
    "import pandas as pd\n",
    "import numpy as np\n",
    "import requests\n",
    "import bs4\n",
    "from bs4 import BeautifulSoup\n",
    "from tqdm.notebook import tqdm"
   ]
  },
  {
   "cell_type": "code",
   "execution_count": 2,
   "metadata": {},
   "outputs": [],
   "source": [
    "def get_heros_urls():  \n",
    "    # Create an empty list to store heros statistics data\n",
    "    hero_summary = []\n",
    "    # Get html by using requests\n",
    "    url = \"https://champion.gg/\"\n",
    "    r = requests.get(url, timeout=30).text\n",
    "    # Use BeautifulSoup to parse the content\n",
    "    soup = BeautifulSoup(r, \"html.parser\")\n",
    "    # Find the heros information\n",
    "    table = soup.find(name=\"div\", attrs={\"class\": \"col-md-9 clearfix\"})\n",
    "    for hero in table.find_all(name=\"div\", attrs={\"class\": \"champ-height\"}):  \n",
    "        # Create an empty list to get hero name temporaryly\n",
    "        s = []\n",
    "        name = hero.find(name=\"span\", attrs={\"class\": \"champion-name\"}).string\n",
    "        # 3 counterexamples: (Nunu & Willump, Jungle), (Dr. Mundo, Top), (Dr. Mundo, Jungle)\n",
    "        name = name.split(\"&\")[0]\n",
    "        name = name.replace(\" \", \"\").replace(\".\", \"\")\n",
    "        s.append(name)\n",
    "        # Get lane of the hero\n",
    "        for lane in hero.find_all(name=\"a\")[1:]:\n",
    "            l = lane.string\n",
    "            l = l.replace(\" \", \"\").replace(\"\\n\", \"\")\n",
    "            s.append(l)\n",
    "        hero_summary.append(s)\n",
    "    # Create an empty list to store url\n",
    "    urls = []\n",
    "    basic_url = \"https://champion.gg/champion/\"\n",
    "    for i in range(len(hero_summary)):\n",
    "        for lane in hero_summary[i][1:]:\n",
    "            url = basic_url + str(hero_summary[i][0]) + \"/\" + str(lane)\n",
    "            urls.append(url)\n",
    "    return urls"
   ]
  },
  {
   "cell_type": "code",
   "execution_count": 3,
   "metadata": {},
   "outputs": [],
   "source": [
    "def get_heros_statistics(url):\n",
    "    # Get hero name and lane from string of url\n",
    "    hero_name = url.split(\"/\")[-2]\n",
    "    lane = url.split(\"/\")[-1]\n",
    "    hero_stat = []\n",
    "    hero_stat.append(hero_name)\n",
    "    hero_stat.append(lane)\n",
    "\n",
    "    r = requests.get(url, timeout=30).text\n",
    "    soup = BeautifulSoup(r, \"html.parser\")\n",
    "    tbody = soup.find(name=\"tbody\")\n",
    "    if tbody is not None:\n",
    "        for tr in tbody.find_all(name=\"tr\", limit=11):\n",
    "            # Find average score in every rows\n",
    "            tds = tr.find_all(name=\"td\")\n",
    "            if tds[1] is not None:\n",
    "                average = tds[1].string\n",
    "                average = str(average).replace(\" \", \"\").replace(\"\\n\", \"\")\n",
    "            hero_stat.append(average)\n",
    "\n",
    "            # Find role placement ratio in every rows\n",
    "            tds = tr.find_all(name=\"td\")\n",
    "            if tds[2].find(name=\"strong\") is not None:\n",
    "                role_placement_1st = tds[2].find(name=\"strong\").string\n",
    "                role_placement_1st = str(role_placement_1st).replace(\" \", \"\").replace(\"\\n\", \"\")\n",
    "            if tds[2].find(name=\"small\") is not None: \n",
    "                role_placement_2nd = tds[2].find(name=\"small\").string\n",
    "                role_placement_2nd = str(role_placement_2nd).replace(\" \", \"\").replace(\"/\", \"\")\n",
    "            role_placement = role_placement_1st + \"/\" + role_placement_2nd\n",
    "            hero_stat.append(role_placement)\n",
    "        \n",
    "        # Find overall placement ratio\n",
    "        tr = tbody.find_all(name=\"tr\")\n",
    "        overall_placement_1st = tr[-1].find(name=\"strong\").string.replace(\" \", \"\").replace(\"\\n\", \"\")\n",
    "        overall_placement_2nd = tr[-1].find(name=\"small\").string.replace(\" \", \"\").replace(\"/\", \"\")\n",
    "        overall_placement = overall_placement_1st + \"/\" + overall_placement_2nd\n",
    "        hero_stat.append(overall_placement)\n",
    "    \n",
    "    return hero_stat"
   ]
  },
  {
   "cell_type": "code",
   "execution_count": 4,
   "metadata": {},
   "outputs": [],
   "source": [
    "def get_heros_dataframe():\n",
    "    stat = []\n",
    "    urls = get_heros_urls()\n",
    "    \n",
    "    for url in tqdm(urls):\n",
    "        hero_stat = get_heros_statistics(url)\n",
    "        stat.append(hero_stat)\n",
    "        df_complete = pd.DataFrame(stat)\n",
    "    \n",
    "    # Set columns names\n",
    "    df_complete.columns = [\"hero\", \"lane\", \n",
    "        \"win_rate_average\", \"win_rate_rp\", \n",
    "        \"play_rate_average\", \"play_rate_rp\", \n",
    "        \"ban_rate_average\", \"ban_rate_rp\", \n",
    "        \"player_base_average_games_played_average\", \"player_base_average_games_played_rp\", \n",
    "        \"gold_earned_average\", \"gold_earned_rp\", \n",
    "        \"kills_average\", \"kills_rp\", \n",
    "        \"deaths_average\", \"death_rp\", \n",
    "        \"assists_average\", \"assists_rp\", \n",
    "        \"damage_dealt_average\", \"damage_dealt_rp\", \n",
    "        \"damage_taken_average\", \"amage_taken_rp\", \n",
    "        \"minions_killed_average\", \"minions_killed_rp\", \n",
    "        \"overall_placement_rp\"]\n",
    "\n",
    "    # Get only average dataframe or role placement dataframe\n",
    "    df_average = df_complete.iloc[:, [0, 1, 2, 4, 6, 8, 10, 12, 14, 16, 18, 20, 22]]\n",
    "    df_rp = df_complete.iloc[:, [0, 1, 3, 5, 7, 9, 11, 13, 15, 17, 19, 21, 23, 24]]\n",
    "    \n",
    "    return df_complete, df_average, df_rp"
   ]
  },
  {
   "cell_type": "code",
   "execution_count": 5,
   "metadata": {},
   "outputs": [
    {
     "data": {
      "application/vnd.jupyter.widget-view+json": {
       "model_id": "3584c6ed98ec416e8be6b13736003689",
       "version_major": 2,
       "version_minor": 0
      },
      "text/plain": [
       "HBox(children=(FloatProgress(value=0.0, max=208.0), HTML(value='')))"
      ]
     },
     "metadata": {},
     "output_type": "display_data"
    },
    {
     "name": "stdout",
     "output_type": "stream",
     "text": [
      "\n"
     ]
    }
   ],
   "source": [
    "df_complete, df_average, df_rp = get_heros_dataframe()"
   ]
  },
  {
   "cell_type": "code",
   "execution_count": 6,
   "metadata": {},
   "outputs": [
    {
     "data": {
      "text/plain": [
       "hero                                        0\n",
       "lane                                        0\n",
       "win_rate_average                            0\n",
       "win_rate_rp                                 0\n",
       "play_rate_average                           0\n",
       "play_rate_rp                                0\n",
       "ban_rate_average                            0\n",
       "ban_rate_rp                                 0\n",
       "player_base_average_games_played_average    0\n",
       "player_base_average_games_played_rp         0\n",
       "gold_earned_average                         0\n",
       "gold_earned_rp                              0\n",
       "kills_average                               0\n",
       "kills_rp                                    0\n",
       "deaths_average                              0\n",
       "death_rp                                    0\n",
       "assists_average                             0\n",
       "assists_rp                                  0\n",
       "damage_dealt_average                        0\n",
       "damage_dealt_rp                             0\n",
       "damage_taken_average                        0\n",
       "amage_taken_rp                              0\n",
       "minions_killed_average                      0\n",
       "minions_killed_rp                           0\n",
       "overall_placement_rp                        0\n",
       "dtype: int64"
      ]
     },
     "execution_count": 6,
     "metadata": {},
     "output_type": "execute_result"
    }
   ],
   "source": [
    "df_complete.isnull().sum()"
   ]
  },
  {
   "cell_type": "code",
   "execution_count": 7,
   "metadata": {},
   "outputs": [],
   "source": [
    "def check_null_data(df):\n",
    "    null_columns = df.columns[df.isnull().any()]\n",
    "    return df[df.isnull().any(axis=1)][null_columns]"
   ]
  },
  {
   "cell_type": "code",
   "execution_count": 8,
   "metadata": {},
   "outputs": [
    {
     "data": {
      "text/html": [
       "<div>\n",
       "<style scoped>\n",
       "    .dataframe tbody tr th:only-of-type {\n",
       "        vertical-align: middle;\n",
       "    }\n",
       "\n",
       "    .dataframe tbody tr th {\n",
       "        vertical-align: top;\n",
       "    }\n",
       "\n",
       "    .dataframe thead th {\n",
       "        text-align: right;\n",
       "    }\n",
       "</style>\n",
       "<table border=\"1\" class=\"dataframe\">\n",
       "  <thead>\n",
       "    <tr style=\"text-align: right;\">\n",
       "      <th></th>\n",
       "    </tr>\n",
       "  </thead>\n",
       "  <tbody>\n",
       "  </tbody>\n",
       "</table>\n",
       "</div>"
      ],
      "text/plain": [
       "Empty DataFrame\n",
       "Columns: []\n",
       "Index: []"
      ]
     },
     "execution_count": 8,
     "metadata": {},
     "output_type": "execute_result"
    }
   ],
   "source": [
    "df_null = check_null_data(df_complete)\n",
    "df_null"
   ]
  },
  {
   "cell_type": "code",
   "execution_count": 10,
   "metadata": {},
   "outputs": [
    {
     "name": "stdout",
     "output_type": "stream",
     "text": [
      "<class 'pandas.core.frame.DataFrame'>\n",
      "RangeIndex: 208 entries, 0 to 207\n",
      "Data columns (total 25 columns):\n",
      " #   Column                                    Non-Null Count  Dtype \n",
      "---  ------                                    --------------  ----- \n",
      " 0   hero                                      208 non-null    object\n",
      " 1   lane                                      208 non-null    object\n",
      " 2   win_rate_average                          208 non-null    object\n",
      " 3   win_rate_rp                               208 non-null    object\n",
      " 4   play_rate_average                         208 non-null    object\n",
      " 5   play_rate_rp                              208 non-null    object\n",
      " 6   ban_rate_average                          208 non-null    object\n",
      " 7   ban_rate_rp                               208 non-null    object\n",
      " 8   player_base_average_games_played_average  208 non-null    object\n",
      " 9   player_base_average_games_played_rp       208 non-null    object\n",
      " 10  gold_earned_average                       208 non-null    object\n",
      " 11  gold_earned_rp                            208 non-null    object\n",
      " 12  kills_average                             208 non-null    object\n",
      " 13  kills_rp                                  208 non-null    object\n",
      " 14  deaths_average                            208 non-null    object\n",
      " 15  death_rp                                  208 non-null    object\n",
      " 16  assists_average                           208 non-null    object\n",
      " 17  assists_rp                                208 non-null    object\n",
      " 18  damage_dealt_average                      208 non-null    object\n",
      " 19  damage_dealt_rp                           208 non-null    object\n",
      " 20  damage_taken_average                      208 non-null    object\n",
      " 21  amage_taken_rp                            208 non-null    object\n",
      " 22  minions_killed_average                    208 non-null    object\n",
      " 23  minions_killed_rp                         208 non-null    object\n",
      " 24  overall_placement_rp                      208 non-null    object\n",
      "dtypes: object(25)\n",
      "memory usage: 40.8+ KB\n"
     ]
    }
   ],
   "source": [
    "df_complete.info()"
   ]
  },
  {
   "cell_type": "code",
   "execution_count": null,
   "metadata": {},
   "outputs": [],
   "source": []
  }
 ],
 "metadata": {
  "kernelspec": {
   "display_name": "nlp",
   "language": "python",
   "name": "nlp"
  },
  "language_info": {
   "codemirror_mode": {
    "name": "ipython",
    "version": 3
   },
   "file_extension": ".py",
   "mimetype": "text/x-python",
   "name": "python",
   "nbconvert_exporter": "python",
   "pygments_lexer": "ipython3",
   "version": "3.7.3"
  }
 },
 "nbformat": 4,
 "nbformat_minor": 4
}
